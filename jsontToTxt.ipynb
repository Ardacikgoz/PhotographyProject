{
 "cells": [
  {
   "cell_type": "code",
   "execution_count": 1,
   "id": "47be837d-75a3-4c38-b8e9-10abfb866c01",
   "metadata": {},
   "outputs": [
    {
     "name": "stdout",
     "output_type": "stream",
     "text": [
      "✅ Tüm YOLO formatlı .txt dosyaları oluşturuldu.\n",
      "✅ data.yaml dosyası oluşturuldu.\n"
     ]
    }
   ],
   "source": [
    "import os\n",
    "import json\n",
    "\n",
    "# --- Dosya yolları ---\n",
    "annotations_path = 'coco/annotations/mini_instances_val2017.json'  # JSON dosyanın yolu\n",
    "images_folder = 'val2017'  # Resimlerin olduğu klasör\n",
    "labels_folder = 'labels'  # Yeni label dosyalarının yazılacağı klasör\n",
    "\n",
    "# --- labels klasörünü oluştur ---\n",
    "os.makedirs(labels_folder, exist_ok=True)\n",
    "\n",
    "# --- COCO JSON dosyasını oku ---\n",
    "with open(annotations_path, 'r') as f:\n",
    "    coco_data = json.load(f)\n",
    "\n",
    "# --- image_id -> file_name eşlemesi yap ---\n",
    "id2filename = {img['id']: img['file_name'].split('.')[0] for img in coco_data['images']}\n",
    "\n",
    "# --- Kategorileri oku ---\n",
    "categories = {cat['id']: cat['name'] for cat in coco_data['categories']}\n",
    "\n",
    "# --- Tüm annotation'ları işle ve YOLO formatına çevir ---\n",
    "annotations_per_image = {}\n",
    "\n",
    "for ann in coco_data['annotations']:\n",
    "    image_id = ann['image_id']\n",
    "    category_id = ann['category_id']\n",
    "    bbox = ann['bbox']  # COCO formatı: [x_min, y_min, width, height]\n",
    "\n",
    "    # Görüntü boyutlarını bul\n",
    "    img_info = next((img for img in coco_data['images'] if img['id'] == image_id), None)\n",
    "    if img_info is None:\n",
    "        continue\n",
    "    img_width = img_info['width']\n",
    "    img_height = img_info['height']\n",
    "\n",
    "    # YOLO formatına çevir (normalize edilmiş)\n",
    "    x_center = (bbox[0] + bbox[2] / 2) / img_width\n",
    "    y_center = (bbox[1] + bbox[3] / 2) / img_height\n",
    "    width = bbox[2] / img_width\n",
    "    height = bbox[3] / img_height\n",
    "\n",
    "    # YOLO satırı oluştur\n",
    "    yolo_line = f\"{category_id} {x_center:.6f} {y_center:.6f} {width:.6f} {height:.6f}\"\n",
    "\n",
    "    filename = id2filename[image_id]\n",
    "    if filename not in annotations_per_image:\n",
    "        annotations_per_image[filename] = []\n",
    "    annotations_per_image[filename].append(yolo_line)\n",
    "\n",
    "# --- YOLO txt dosyalarını yaz ---\n",
    "for filename, annotations in annotations_per_image.items():\n",
    "    txt_path = os.path.join(labels_folder, f\"{filename}.txt\")\n",
    "    with open(txt_path, 'w') as f:\n",
    "        f.write('\\n'.join(annotations))\n",
    "\n",
    "print(\"✅ Tüm YOLO formatlı .txt dosyaları oluşturuldu.\")\n",
    "\n",
    "# --- İstersen data.yaml dosyasını da yazabiliriz ---\n",
    "yaml_content = f\"\"\"\\\n",
    "path: .\n",
    "train: images/val\n",
    "val: images/val\n",
    "\n",
    "names:\n",
    "\"\"\"\n",
    "\n",
    "for cat_id, name in categories.items():\n",
    "    yaml_content += f\"  {cat_id}: {name}\\n\"\n",
    "\n",
    "# data.yaml dosyasını kaydet\n",
    "yaml_save_path = 'data.yaml'\n",
    "with open(yaml_save_path, 'w') as f:\n",
    "    f.write(yaml_content)\n",
    "\n",
    "print(\"✅ data.yaml dosyası oluşturuldu.\")"
   ]
  }
 ],
 "metadata": {
  "kernelspec": {
   "display_name": "Python 3 (ipykernel)",
   "language": "python",
   "name": "python3"
  },
  "language_info": {
   "codemirror_mode": {
    "name": "ipython",
    "version": 3
   },
   "file_extension": ".py",
   "mimetype": "text/x-python",
   "name": "python",
   "nbconvert_exporter": "python",
   "pygments_lexer": "ipython3",
   "version": "3.12.4"
  }
 },
 "nbformat": 4,
 "nbformat_minor": 5
}

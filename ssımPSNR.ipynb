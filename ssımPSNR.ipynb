{
 "cells": [
  {
   "cell_type": "code",
   "execution_count": 1,
   "id": "54103644-5df1-4e4a-8cd2-a4108f7c50dc",
   "metadata": {},
   "outputs": [],
   "source": [
    "import os\n",
    "import cv2\n",
    "import numpy as np\n",
    "from skimage.metrics import peak_signal_noise_ratio as psnr\n",
    "from skimage.metrics import structural_similarity as ssim"
   ]
  },
  {
   "cell_type": "code",
   "execution_count": 2,
   "id": "beec5d40-5648-4fc0-84a9-e8eb29f600a1",
   "metadata": {},
   "outputs": [],
   "source": [
    "original_folder = \"datasets/normalImages/images\"\n"
   ]
  },
  {
   "cell_type": "code",
   "execution_count": 3,
   "id": "27b607c5-8f9a-4ea1-a073-9c4df607f3a3",
   "metadata": {},
   "outputs": [],
   "source": [
    "original_files = sorted([f for f in os.listdir(original_folder) if f.endswith(('.png', '.jpg'))])"
   ]
  },
  {
   "cell_type": "code",
   "execution_count": 4,
   "id": "8e86b9fb-ea59-49a2-81b7-100f844c2993",
   "metadata": {},
   "outputs": [],
   "source": [
    "blurTypes = ['Bilateral_Filtered','Defocus_Blurred','Gaussian_Blurred','Low_Light_Blurred','Motion_Blurred']"
   ]
  },
  {
   "cell_type": "code",
   "execution_count": 5,
   "id": "a53a462e-4a44-456f-916e-db7fff0f6dac",
   "metadata": {},
   "outputs": [],
   "source": [
    "def calculateMeanPS(deblurType, blurTypes):\n",
    "    psnr_values = []\n",
    "    ssim_values = []\n",
    "    psnrWithoutLow = []\n",
    "    ssimWithoutLow = []    \n",
    "    original_folder = \"datasets/normalImages/images\"\n",
    "    original_files = sorted([f for f in os.listdir(original_folder) if f.endswith(('.png', '.jpg'))])\n",
    "\n",
    "    for blur in blurTypes:\n",
    "        inPsnr = []\n",
    "        inSsim = []\n",
    "        \n",
    "        deblurred_folder = f\"datasets/{deblurType}/{blur}/images\"\n",
    "        deblurred_files = sorted([f for f in os.listdir(deblurred_folder) if f.endswith(('.png', '.jpg'))])\n",
    "\n",
    "        for orig_name, deblur_name in zip(original_files, deblurred_files):\n",
    "            orig_path = os.path.join(original_folder, orig_name)\n",
    "            deblur_path = os.path.join(deblurred_folder, deblur_name)\n",
    "\n",
    "            orig_img = cv2.imread(orig_path)\n",
    "            deblur_img = cv2.imread(deblur_path)\n",
    "\n",
    "            if orig_img.shape != deblur_img.shape:\n",
    "                deblur_img = cv2.resize(deblur_img, (orig_img.shape[1], orig_img.shape[0]))\n",
    "\n",
    "            orig_gray = cv2.cvtColor(orig_img, cv2.COLOR_BGR2GRAY)\n",
    "            deblur_gray = cv2.cvtColor(deblur_img, cv2.COLOR_BGR2GRAY)\n",
    "\n",
    "            psnr_val = psnr(orig_gray, deblur_gray)\n",
    "            ssim_val = ssim(orig_gray, deblur_gray)\n",
    "\n",
    "            psnr_values.append(psnr_val)\n",
    "            ssim_values.append(ssim_val)\n",
    "            inPsnr.append(psnr_val)\n",
    "            inSsim.append(ssim_val)\n",
    "            if blur != \"Low_Light_Blurred\":\n",
    "                psnrWithoutLow.append(psnr_val)\n",
    "                ssimWithoutLow.append(ssim_val)\n",
    "        if inPsnr:\n",
    "            print(f\"avg psnr value of {deblurType} {blur}: {sum(inPsnr) / len(inPsnr):.2f}\")\n",
    "            print(f\"avg ssim value of {deblurType} {blur}: {sum(inSsim) / len(inSsim):.4f}\")\n",
    "            print()\n",
    "\n",
    "    print(\"------- OVERALL AVG -------\")\n",
    "    if psnr_values:\n",
    "        print(f\"AVG PSNR Value of {deblurType}: {sum(psnr_values)/len(psnr_values):.2f}\")\n",
    "        print(f\"AVG SSIM Value of {deblurType}: {sum(ssim_values)/len(ssim_values):.4f}\")\n",
    "    print()\n",
    "    print(\"-------  AVG WITHOUT LOW LIGHT -------\")\n",
    "    if psnr_values:\n",
    "        print(f\"AVG PSNR Value of {deblurType}: {sum(psnrWithoutLow)/len(psnrWithoutLow):.2f}\")\n",
    "        print(f\"AVG SSIM Value of {deblurType}: {sum(ssimWithoutLow)/len(ssimWithoutLow):.4f}\")  "
   ]
  },
  {
   "cell_type": "code",
   "execution_count": 6,
   "id": "79eff8c9-76c1-41ef-95a7-518a416d3554",
   "metadata": {},
   "outputs": [
    {
     "name": "stdout",
     "output_type": "stream",
     "text": [
      "avg psnr value of deblurGANv2 Bilateral_Filtered: 24.47\n",
      "avg ssim value of deblurGANv2 Bilateral_Filtered: 0.6435\n",
      "\n",
      "avg psnr value of deblurGANv2 Defocus_Blurred: 24.37\n",
      "avg ssim value of deblurGANv2 Defocus_Blurred: 0.6626\n",
      "\n",
      "avg psnr value of deblurGANv2 Gaussian_Blurred: 22.52\n",
      "avg ssim value of deblurGANv2 Gaussian_Blurred: 0.5811\n",
      "\n",
      "avg psnr value of deblurGANv2 Low_Light_Blurred: 16.54\n",
      "avg ssim value of deblurGANv2 Low_Light_Blurred: 0.2337\n",
      "\n",
      "avg psnr value of deblurGANv2 Motion_Blurred: 23.12\n",
      "avg ssim value of deblurGANv2 Motion_Blurred: 0.6477\n",
      "\n",
      "------- OVERALL AVG -------\n",
      "AVG PSNR Value of deblurGANv2: 22.20\n",
      "AVG SSIM Value of deblurGANv2: 0.5537\n",
      "\n",
      "-------  AVG WITHOUT LOW LIGHT -------\n",
      "AVG PSNR Value of deblurGANv2: 23.62\n",
      "AVG SSIM Value of deblurGANv2: 0.6337\n"
     ]
    }
   ],
   "source": [
    "calculateMeanPS('deblurGANv2',blurTypes)"
   ]
  },
  {
   "cell_type": "code",
   "execution_count": 7,
   "id": "34c0664e-a9d8-4598-b408-64895c9e2205",
   "metadata": {},
   "outputs": [
    {
     "name": "stdout",
     "output_type": "stream",
     "text": [
      "avg psnr value of deblurWiener Bilateral_Filtered: 22.11\n",
      "avg ssim value of deblurWiener Bilateral_Filtered: 0.5603\n",
      "\n",
      "avg psnr value of deblurWiener Defocus_Blurred: 22.23\n",
      "avg ssim value of deblurWiener Defocus_Blurred: 0.5759\n",
      "\n",
      "avg psnr value of deblurWiener Gaussian_Blurred: 21.54\n",
      "avg ssim value of deblurWiener Gaussian_Blurred: 0.5415\n",
      "\n",
      "avg psnr value of deblurWiener Low_Light_Blurred: 19.62\n",
      "avg ssim value of deblurWiener Low_Light_Blurred: 0.4971\n",
      "\n",
      "avg psnr value of deblurWiener Motion_Blurred: 21.33\n",
      "avg ssim value of deblurWiener Motion_Blurred: 0.5415\n",
      "\n",
      "------- OVERALL AVG -------\n",
      "AVG PSNR Value of deblurWiener: 21.36\n",
      "AVG SSIM Value of deblurWiener: 0.5432\n",
      "\n",
      "-------  AVG WITHOUT LOW LIGHT -------\n",
      "AVG PSNR Value of deblurWiener: 21.80\n",
      "AVG SSIM Value of deblurWiener: 0.5548\n"
     ]
    }
   ],
   "source": [
    "calculateMeanPS('deblurWiener',blurTypes)"
   ]
  },
  {
   "cell_type": "code",
   "execution_count": 8,
   "id": "775a2ac8-365a-44e1-8841-8475d7b36f04",
   "metadata": {},
   "outputs": [
    {
     "name": "stdout",
     "output_type": "stream",
     "text": [
      "avg psnr value of mprNet Bilateral_Filtered: 22.64\n",
      "avg ssim value of mprNet Bilateral_Filtered: 0.5938\n",
      "\n",
      "avg psnr value of mprNet Defocus_Blurred: 22.75\n",
      "avg ssim value of mprNet Defocus_Blurred: 0.6198\n",
      "\n",
      "avg psnr value of mprNet Gaussian_Blurred: 22.10\n",
      "avg ssim value of mprNet Gaussian_Blurred: 0.5735\n",
      "\n",
      "avg psnr value of mprNet Low_Light_Blurred: 7.09\n",
      "avg ssim value of mprNet Low_Light_Blurred: 0.0439\n",
      "\n",
      "avg psnr value of mprNet Motion_Blurred: 22.22\n",
      "avg ssim value of mprNet Motion_Blurred: 0.6156\n",
      "\n",
      "------- OVERALL AVG -------\n",
      "AVG PSNR Value of mprNet: 19.36\n",
      "AVG SSIM Value of mprNet: 0.4893\n",
      "\n",
      "-------  AVG WITHOUT LOW LIGHT -------\n",
      "AVG PSNR Value of mprNet: 22.43\n",
      "AVG SSIM Value of mprNet: 0.6007\n"
     ]
    }
   ],
   "source": [
    "calculateMeanPS('mprNet',blurTypes)"
   ]
  },
  {
   "cell_type": "code",
   "execution_count": 9,
   "id": "32768eaa-1dac-4ba7-a637-a2f3725be03a",
   "metadata": {},
   "outputs": [
    {
     "name": "stdout",
     "output_type": "stream",
     "text": [
      "avg psnr value of deblurRL Bilateral_Filtered: 17.26\n",
      "avg ssim value of deblurRL Bilateral_Filtered: 0.4606\n",
      "\n",
      "avg psnr value of deblurRL Defocus_Blurred: 18.05\n",
      "avg ssim value of deblurRL Defocus_Blurred: 0.5646\n",
      "\n",
      "avg psnr value of deblurRL Gaussian_Blurred: 17.60\n",
      "avg ssim value of deblurRL Gaussian_Blurred: 0.5098\n",
      "\n",
      "avg psnr value of deblurRL Low_Light_Blurred: 13.12\n",
      "avg ssim value of deblurRL Low_Light_Blurred: 0.0928\n",
      "\n",
      "avg psnr value of deblurRL Motion_Blurred: 16.14\n",
      "avg ssim value of deblurRL Motion_Blurred: 0.3780\n",
      "\n",
      "------- OVERALL AVG -------\n",
      "AVG PSNR Value of deblurRL: 16.43\n",
      "AVG SSIM Value of deblurRL: 0.4012\n",
      "\n",
      "-------  AVG WITHOUT LOW LIGHT -------\n",
      "AVG PSNR Value of deblurRL: 17.26\n",
      "AVG SSIM Value of deblurRL: 0.4783\n"
     ]
    }
   ],
   "source": [
    "calculateMeanPS('deblurRL',blurTypes)"
   ]
  },
  {
   "cell_type": "code",
   "execution_count": 10,
   "id": "cf89169d-252f-4c6c-8114-48b498df2813",
   "metadata": {},
   "outputs": [
    {
     "name": "stdout",
     "output_type": "stream",
     "text": [
      "avg psnr value of newBlurImages Bilateral_Filtered: 24.26\n",
      "avg ssim value of newBlurImages Bilateral_Filtered: 0.6352\n",
      "\n",
      "avg psnr value of newBlurImages Defocus_Blurred: 23.04\n",
      "avg ssim value of newBlurImages Defocus_Blurred: 0.6012\n",
      "\n",
      "avg psnr value of newBlurImages Gaussian_Blurred: 22.24\n",
      "avg ssim value of newBlurImages Gaussian_Blurred: 0.5678\n",
      "\n",
      "avg psnr value of newBlurImages Low_Light_Blurred: 16.52\n",
      "avg ssim value of newBlurImages Low_Light_Blurred: 0.2244\n",
      "\n",
      "avg psnr value of newBlurImages Motion_Blurred: 21.57\n",
      "avg ssim value of newBlurImages Motion_Blurred: 0.5569\n",
      "\n",
      "------- OVERALL AVG -------\n",
      "AVG PSNR Value of newBlurImages: 21.53\n",
      "AVG SSIM Value of newBlurImages: 0.5171\n",
      "\n",
      "-------  AVG WITHOUT LOW LIGHT -------\n",
      "AVG PSNR Value of newBlurImages: 22.78\n",
      "AVG SSIM Value of newBlurImages: 0.5903\n"
     ]
    }
   ],
   "source": [
    "calculateMeanPS('newBlurImages',blurTypes)"
   ]
  }
 ],
 "metadata": {
  "kernelspec": {
   "display_name": "Python 3 (ipykernel)",
   "language": "python",
   "name": "python3"
  },
  "language_info": {
   "codemirror_mode": {
    "name": "ipython",
    "version": 3
   },
   "file_extension": ".py",
   "mimetype": "text/x-python",
   "name": "python",
   "nbconvert_exporter": "python",
   "pygments_lexer": "ipython3",
   "version": "3.12.4"
  }
 },
 "nbformat": 4,
 "nbformat_minor": 5
}

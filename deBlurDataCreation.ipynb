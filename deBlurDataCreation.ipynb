{
 "cells": [
  {
   "cell_type": "code",
   "execution_count": 18,
   "id": "57019173-5d4d-4b22-ad23-5be69a7f0242",
   "metadata": {},
   "outputs": [],
   "source": [
    "import os\n",
    "import numpy as np\n",
    "from skimage import io, img_as_float\n",
    "from skimage.restoration import richardson_lucy\n",
    "from scipy.signal import convolve2d, wiener\n",
    "from skimage.util import img_as_ubyte\n",
    "import cv2\n",
    "from tqdm import tqdm\n"
   ]
  },
  {
   "cell_type": "code",
   "execution_count": 20,
   "id": "23ad3c7f-3906-45ef-9bf1-558b19e2920c",
   "metadata": {},
   "outputs": [],
   "source": [
    "def generate_psf(kernel_size=5):\n",
    "    psf = np.ones((kernel_size, kernel_size), dtype=np.float32)\n",
    "    return psf / psf.sum()"
   ]
  },
  {
   "cell_type": "code",
   "execution_count": 22,
   "id": "36ed0888-a90e-415c-a475-92d8c943542f",
   "metadata": {},
   "outputs": [],
   "source": [
    "def deblur_with_rl(image, psf, num_iter=30):\n",
    "    restored_channels = []\n",
    "    for c in range(3):\n",
    "        restored = richardson_lucy(image[:, :, c], psf, num_iter=num_iter)\n",
    "        restored_channels.append(restored)\n",
    "    return np.stack(restored_channels, axis=2)"
   ]
  },
  {
   "cell_type": "code",
   "execution_count": 24,
   "id": "7ea04487-b337-4dab-b5f1-7936562a2189",
   "metadata": {},
   "outputs": [],
   "source": [
    "def deblur_with_wiener(image, psf):\n",
    "    restored_channels = []\n",
    "    for c in range(3):\n",
    "        blurred = convolve2d(image[:, :, c], psf, mode='same', boundary='wrap')\n",
    "        deblurred = wiener(blurred, mysize=None, noise=0.1)\n",
    "        restored_channels.append(deblurred)\n",
    "    return np.stack(restored_channels, axis=2)"
   ]
  },
  {
   "cell_type": "code",
   "execution_count": 62,
   "id": "c3d613e8-ea81-4e9d-812b-f563d8e58627",
   "metadata": {},
   "outputs": [],
   "source": [
    "def process_dataset(input_folder, output_folder, method='rl', psf_size=5):\n",
    "    os.makedirs(output_folder, exist_ok=True)\n",
    "    psf = generate_psf(psf_size)\n",
    "\n",
    "    image_files = sorted([f for f in os.listdir(input_folder) if f.endswith(('.jpg', '.png', '.jpeg'))])\n",
    "\n",
    "    print(f\"\\n🔧 {method.upper()} yöntemiyle {len(image_files)} görüntü işleniyor...\\n\")\n",
    "    for filename in tqdm(image_files, desc=f\"{method.upper()} Deblurring\"):\n",
    "        path = os.path.join(input_folder, filename)\n",
    "        image = img_as_float(io.imread(path))\n",
    "        if image.ndim != 3 or image.shape[2] != 3:\n",
    "            print(f\"⚠️ Renkli olmayan görüntü atlandı: {filename}\")\n",
    "            continue\n",
    "\n",
    "        if method == 'rl':\n",
    "            deblurred = deblur_with_rl(image, psf, num_iter=40)\n",
    "        elif method == 'wiener':\n",
    "            deblurred = deblur_with_wiener(image, psf)\n",
    "        else:\n",
    "            raise ValueError(\"Desteklenmeyen yöntem: 'rl' ya da 'wiener' olmalı.\")\n",
    "\n",
    "        deblurred = np.clip(deblurred, 0, 1)\n",
    "        safe_image = img_as_ubyte(deblurred)\n",
    "        save_path = os.path.join(output_folder, f\"{method}_{filename}\")\n",
    "        io.imsave(save_path, safe_image)"
   ]
  },
  {
   "cell_type": "code",
   "execution_count": 64,
   "id": "9aa9810d-01ae-4772-b9b5-ced673d769b4",
   "metadata": {},
   "outputs": [
    {
     "name": "stdout",
     "output_type": "stream",
     "text": [
      "\n",
      "🔧 RL yöntemiyle 1000 görüntü işleniyor...\n",
      "\n"
     ]
    },
    {
     "name": "stderr",
     "output_type": "stream",
     "text": [
      "RL Deblurring: 100%|████████████████████████| 1000/1000 [19:32<00:00,  1.17s/it]\n"
     ]
    }
   ],
   "source": [
    "blurType = ['Defocus Blurred','Bilateral Filtered','Gaussian Blurred','Low Light Blurred','Motion Blurred' ]\n",
    "for file in blurType:\n",
    "    process_dataset(\n",
    "        input_folder=\"datasets/newBlurImages/\" + file + \"/images\",\n",
    "        output_folder=\"datasets/deblurRL/\" + file + \"/images\",\n",
    "        method='rl',\n",
    "        psf_size=7\n",
    "    )"
   ]
  },
  {
   "cell_type": "code",
   "execution_count": 20,
   "id": "b051eec0-545d-4c02-954c-6698e4a6dc3b",
   "metadata": {},
   "outputs": [
    {
     "name": "stdout",
     "output_type": "stream",
     "text": [
      "\n",
      "🔧 WIENER yöntemiyle 1000 görüntü işleniyor...\n",
      "\n"
     ]
    },
    {
     "name": "stderr",
     "output_type": "stream",
     "text": [
      "WIENER Deblurring: 100%|████████████████████| 1000/1000 [02:02<00:00,  8.17it/s]\n"
     ]
    },
    {
     "name": "stdout",
     "output_type": "stream",
     "text": [
      "\n",
      "🔧 WIENER yöntemiyle 1000 görüntü işleniyor...\n",
      "\n"
     ]
    },
    {
     "name": "stderr",
     "output_type": "stream",
     "text": [
      "WIENER Deblurring: 100%|████████████████████| 1000/1000 [02:02<00:00,  8.16it/s]\n"
     ]
    },
    {
     "name": "stdout",
     "output_type": "stream",
     "text": [
      "\n",
      "🔧 WIENER yöntemiyle 1000 görüntü işleniyor...\n",
      "\n"
     ]
    },
    {
     "name": "stderr",
     "output_type": "stream",
     "text": [
      "WIENER Deblurring: 100%|████████████████████| 1000/1000 [02:07<00:00,  7.84it/s]\n"
     ]
    },
    {
     "name": "stdout",
     "output_type": "stream",
     "text": [
      "\n",
      "🔧 WIENER yöntemiyle 1000 görüntü işleniyor...\n",
      "\n"
     ]
    },
    {
     "name": "stderr",
     "output_type": "stream",
     "text": [
      "WIENER Deblurring: 100%|████████████████████| 1000/1000 [02:07<00:00,  7.85it/s]\n"
     ]
    },
    {
     "name": "stdout",
     "output_type": "stream",
     "text": [
      "\n",
      "🔧 WIENER yöntemiyle 1000 görüntü işleniyor...\n",
      "\n"
     ]
    },
    {
     "name": "stderr",
     "output_type": "stream",
     "text": [
      "WIENER Deblurring: 100%|████████████████████| 1000/1000 [01:59<00:00,  8.34it/s]\n"
     ]
    }
   ],
   "source": [
    "blurType = ['Bilateral Filtered','Defocus Blurred','Gaussian Blurred','Low Light Blurred','Motion Blurred' ]\n",
    "for file in blurType:\n",
    "    process_dataset(\n",
    "        input_folder=\"datasets/newBlurImages/\" + file,\n",
    "        output_folder=\"datasets/deblurWiener/\" + file,\n",
    "        method='wiener',\n",
    "        psf_size=7\n",
    "    )"
   ]
  }
 ],
 "metadata": {
  "kernelspec": {
   "display_name": "Python 3 (ipykernel)",
   "language": "python",
   "name": "python3"
  },
  "language_info": {
   "codemirror_mode": {
    "name": "ipython",
    "version": 3
   },
   "file_extension": ".py",
   "mimetype": "text/x-python",
   "name": "python",
   "nbconvert_exporter": "python",
   "pygments_lexer": "ipython3",
   "version": "3.12.4"
  }
 },
 "nbformat": 4,
 "nbformat_minor": 5
}
